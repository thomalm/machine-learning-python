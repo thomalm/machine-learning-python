{
 "cells": [
  {
   "cell_type": "markdown",
   "metadata": {},
   "source": [
    "# Introduction"
   ]
  },
  {
   "cell_type": "markdown",
   "metadata": {},
   "source": [
    "In this presentation will attempt to give you an introduction to <b>Data Science</b> and the field of <b>Machine Learning</b>. Since many of the people here probably never have heard of machine learning and are not programmers so i will attempt to focus on the intuition behind the subjects and not focus to much on the minor details.\n",
    "\n",
    "### Agenda\n",
    "\n",
    "<ul>\n",
    "    <li>Introduction to Python & iPython</li>\n",
    "    <li>What is Machine Learning?</li>\n",
    "    <li>Basic Principles</li>\n",
    "    <li>Data Visualization</li>\n",
    "    <li>Model Building</li>\n",
    "    <li>Model Evaluation</li>\n",
    "</ul>\n",
    "\n",
    "### Python\n",
    "\n",
    "- Background\n",
    "- 5 reasons why i <i>like</i> python\n",
    "    - Coding language trends and popularity\n",
    "    - Readability\n",
    "    - Easy language to learn\n",
    "    - Both a scripting and production ready language\n",
    "    - Mature libraries\n",
    "    - Large community\n",
    "- List of python libraries used in the presentation\n",
    "    - Sklearn\n",
    "    - Matplotlib\n",
    "    - Numpy\n",
    "    - Pandas\n",
    "\n"
   ]
  },
  {
   "cell_type": "code",
   "execution_count": null,
   "metadata": {
    "collapsed": true
   },
   "outputs": [],
   "source": [
    "\"\"\"\n",
    "Show programming language trend chart/visualization\n",
    "\"\"\""
   ]
  },
  {
   "cell_type": "code",
   "execution_count": 5,
   "metadata": {
    "collapsed": false
   },
   "outputs": [
    {
     "name": "stdout",
     "output_type": "stream",
     "text": [
      "9\n",
      "[1, 2, 3, 4, 5, 6, 7, 8, 9]\n"
     ]
    }
   ],
   "source": [
    "\"\"\"\n",
    "Basic code samples in python\n",
    "\"\"\""
   ]
  },
  {
   "cell_type": "code",
   "execution_count": 6,
   "metadata": {
    "collapsed": false
   },
   "outputs": [
    {
     "data": {
      "text/plain": [
       "'\\nSklearn\\n'"
      ]
     },
     "execution_count": 6,
     "metadata": {},
     "output_type": "execute_result"
    }
   ],
   "source": [
    "\"\"\"\n",
    "Numpy examples\n",
    "\"\"\"\n",
    "\"\"\"\n",
    "Pandas examples\n",
    "\"\"\"\n",
    "\"\"\"\n",
    "Matplotlib/Seaborn\n",
    "\"\"\"\n",
    "\"\"\"\n",
    "Sklearn\n",
    "\"\"\""
   ]
  },
  {
   "cell_type": "markdown",
   "metadata": {},
   "source": [
    "### iPython\n",
    "\n",
    "What is iPython and why do i use it?\n",
    "\n",
    "\n",
    "#### i for interactive"
   ]
  },
  {
   "cell_type": "code",
   "execution_count": 7,
   "metadata": {
    "collapsed": false
   },
   "outputs": [
    {
     "data": {
      "text/plain": [
       "24"
      ]
     },
     "execution_count": 7,
     "metadata": {},
     "output_type": "execute_result"
    }
   ],
   "source": [
    "def factorial(n):\n",
    "    \"\"\"\n",
    "    Calculate N! factorial(4) = 4*3*2*1 = 24\n",
    "    \"\"\"\n",
    "    if n > 1:\n",
    "        return n * factorial(n-1)\n",
    "    return 1\n",
    "\n",
    "factorial(4)"
   ]
  },
  {
   "cell_type": "markdown",
   "metadata": {},
   "source": [
    "#### Mathematical formulas\n",
    "\n",
    "iPython supports the use of mathematical formulas in the document. For those who are familiar with <i>Latex</i>\n",
    "\n",
    "$J(\\theta) = \\frac{1}{m} \\sum_{n=1}^{m} [-y^{(i)}log(h_{\\theta}(x^{(i)}))-(1-y^{(i)})log(1-h_{\\theta}(x^{(i)}))]$"
   ]
  },
  {
   "cell_type": "markdown",
   "metadata": {},
   "source": [
    "#### Images\n",
    "\n",
    "You can embed images...\n",
    "\n",
    "<img src=\"http://i.ytimg.com/vi/tntOCGkgt98/maxresdefault.jpg\" />"
   ]
  },
  {
   "cell_type": "markdown",
   "metadata": {},
   "source": [
    "#### Show plots in line\n"
   ]
  },
  {
   "cell_type": "markdown",
   "metadata": {},
   "source": [
    "#### So that you can have everything in one place"
   ]
  },
  {
   "cell_type": "markdown",
   "metadata": {},
   "source": [
    "\n",
    "## What is Machine Learning?\n",
    "\n",
    "- Short introduction, mention the background of the field and what tasks it is currently used to solve\n",
    "    - List a few examples and find a neat YouTube video\n",
    "- Basic formulation\n",
    "- A modern data scientists skill-set\n",
    "    - Programming\n",
    "    - Statistics\n",
    "    - Mathematics\n",
    "    - Data visualization\n",
    "    - Machine Learning\n",
    "    - Databases\n",
    "\n",
    "\n",
    "## Basic Principles\n",
    "\n",
    "- Datasets/Representation of data. Machine learning is about creating models from data: for that reason, we'll start by discussing how data can be represented in order to be understood by the computer... m samples, n features\n",
    "- Example dataset\n",
    "- Show and example dataset with a few features and visualize it using different plot types\n",
    "- Cost functions\n",
    "\n",
    "\n",
    "## Data Wrangling/Cleaning\n",
    "\n",
    "- What is data wrangling/cleaning and why is it important?\n",
    "    - Garbage in, garbage out...\n",
    "    - Show some plots with e.g. outliers and invalid data points and how this can affect a classifier\n",
    "- Must reorganize the data so that it can be understood by the computer or by our model\n",
    "- ...\n",
    "\n",
    "## Data Visualization\n",
    "\n",
    "- What is data visualization and why is it important? \n",
    "- Give a few examples of cool data visualizations including animations and maps\n",
    "- Exploratory vs Explanatory data analysis\n",
    "- Show how data visualization can help you understand the data better\n",
    "- Show why plotting can be very useful when choosing a model\n",
    "\n",
    "\n",
    "## Model Building \n",
    "\n",
    "- Introduction to different kinds of machine learning problems\n",
    "- Finding the right parameters\n",
    "- Supervised learning: Classification and Regression\n",
    "    - Examples of tasks suited for Regression\n",
    "    - Examples of tasks suited for Classification\n",
    "- Unsupervised learning: Dimensionality Reduction and Clustering\n",
    "    - What is Dimensionality Reduction and why is it important?\n",
    "    - What is Clustering and what can it be used for?\n",
    "    \n",
    "This is the topic of manifold learning, also called nonlinear dimensionality reduction, a branch of machine learning (more specifically, unsupervised learning). It is still an active area of research today to develop algorithms that can automatically recover a hidden structure in a high-dimensional dataset.\n",
    "\n",
    "## Validation and Model Selection\n",
    "\n",
    "- How do we select the <i>right</i> model and parameters?\n",
    "- Evaluation Metrics\n",
    "- Cross Validation\n",
    "- A-B Testing\n"
   ]
  },
  {
   "cell_type": "code",
   "execution_count": null,
   "metadata": {
    "collapsed": true
   },
   "outputs": [],
   "source": []
  }
 ],
 "metadata": {
  "kernelspec": {
   "display_name": "Python 3",
   "language": "python",
   "name": "python3"
  },
  "language_info": {
   "codemirror_mode": {
    "name": "ipython",
    "version": 3
   },
   "file_extension": ".py",
   "mimetype": "text/x-python",
   "name": "python",
   "nbconvert_exporter": "python",
   "pygments_lexer": "ipython3",
   "version": "3.4.3"
  }
 },
 "nbformat": 4,
 "nbformat_minor": 0
}
